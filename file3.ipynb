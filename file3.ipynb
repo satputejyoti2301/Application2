{
 "cells": [
  {
   "cell_type": "markdown",
   "id": "ad90abef",
   "metadata": {},
   "source": [
    "# Linear Regression"
   ]
  },
  {
   "cell_type": "code",
   "execution_count": null,
   "id": "e10d87b4",
   "metadata": {},
   "outputs": [],
   "source": [
    "Independent Variable/Variables >> Input Data\n",
    "\n",
    "Dependent Variable >> Ouput Data/Target"
   ]
  },
  {
   "cell_type": "code",
   "execution_count": null,
   "id": "50343069",
   "metadata": {},
   "outputs": [],
   "source": [
    "Credit_Score Salary Age Loan_Status\n",
    "750           50k   30  Approved\n",
    "500           45k   60  Declined\n",
    "600           1.5lac 40 Approved\n",
    "850           2lac  70  Approved\n",
    "850           1lac  70  Declined\n",
    "750           50k   30  Approved\n",
    "500           45k   60  Declined\n",
    "600           1.5lac 40 Approved\n",
    "850           2lac  70  Approved\n",
    "850           1lac  70  Declined\n",
    "750           50k   30  Approved\n",
    "500           45k   60  Declined\n",
    "600           1.5lac 40 Approved\n",
    "850           2lac  70  Approved\n",
    "850           1lac  70  Declined\n",
    "\n",
    "85% >> Accuracy\n",
    "\n",
    "700           80k   50    ?\n",
    "x1            x2    x3    y(dependent)\n",
    "\n",
    "Inpendent Variables >> x1, x2, x3\n",
    "Dependent Variable  >> y"
   ]
  },
  {
   "cell_type": "markdown",
   "id": "60332eac",
   "metadata": {},
   "source": [
    "Experience >> Independent Var >> x\n",
    "Salary     >> Dependent Var   >> y "
   ]
  },
  {
   "cell_type": "code",
   "execution_count": null,
   "id": "f57e96fd",
   "metadata": {},
   "outputs": [],
   "source": [
    "y = mx + c\n",
    "m >> slope of line\n",
    "c >> intercept\n",
    "\n",
    "Exp(x)  Salary(y)\n",
    "\n",
    "1     20k\n",
    "1.5   30k\n",
    "2     35k\n",
    "2.5   40k\n",
    "3     40k\n",
    "3.5   50k\n",
    "4.5   80k\n",
    "5     1 lac\n",
    "\n",
    "3.2    ?\n",
    "\n",
    "\n",
    "m >> y2 - y1 / x2 - x1\n",
    "\n",
    "pt1 >> 1.5(x1)   30k(y1)\n",
    "pt2 >> 3(x2)     40k(y2)\n",
    "\n",
    "m = (40 - 30)/ (3-1.5) = 10/1.5 = 6.67\n",
    "c = 18 \n",
    "\n",
    "y = 6.67 x + 18\n",
    "\n",
    "Salary = 6.67 (Exp) + 18\n",
    "       = 6.67 * 3.2 + 18\n",
    "       = 39k"
   ]
  },
  {
   "cell_type": "code",
   "execution_count": 2,
   "id": "2082a29a",
   "metadata": {
    "scrolled": true
   },
   "outputs": [
    {
     "data": {
      "text/plain": [
       "39.344"
      ]
     },
     "execution_count": 2,
     "metadata": {},
     "output_type": "execute_result"
    }
   ],
   "source": [
    "6.67 * 3.2 + 18"
   ]
  },
  {
   "cell_type": "code",
   "execution_count": null,
   "id": "179c6bc6",
   "metadata": {},
   "outputs": [],
   "source": [
    "It is predictive model used to find the linear relationaship between dependent variables and \n",
    "\"one or more\" independent variable"
   ]
  },
  {
   "cell_type": "code",
   "execution_count": null,
   "id": "ab24904e",
   "metadata": {},
   "outputs": [],
   "source": [
    "Area_Sqft   BathRooms  Bedrooms  Location  Price\n",
    "1000            2         3        Baner     2.5cr\n",
    "1000            2         3        Wagholi   1cr\n",
    "500             1         1        Aundh     60lacs\n",
    "800             1         2        Balewadi  1.2 cr\n",
    "\n",
    "750             2         2        Balewadi  ?\n",
    "x1              x2        x3       x4        y"
   ]
  },
  {
   "cell_type": "markdown",
   "id": "0c9a670c",
   "metadata": {},
   "source": [
    "## Types of Linear Regression"
   ]
  },
  {
   "cell_type": "code",
   "execution_count": null,
   "id": "4b2522d6",
   "metadata": {},
   "outputs": [],
   "source": [
    "1. Simple Linear Regression : One Independent\n",
    "        y = mx + c\n",
    "        m >> slope\n",
    "        c >> intercept\n",
    "        x >> independent var\n",
    "        y >> dependent var"
   ]
  },
  {
   "cell_type": "code",
   "execution_count": null,
   "id": "e6811b4f",
   "metadata": {},
   "outputs": [],
   "source": [
    "2. Multiple Linear Regression : More than one Independent Variable\n",
    "        y = m1x1 + m2x2 + m3x3 + m4x4 + ...... mNxN + c\n",
    "        \n",
    "        m1, m2, >> slopes\n",
    "        c >> intercept\n",
    "        y >> dependent variable"
   ]
  },
  {
   "cell_type": "code",
   "execution_count": null,
   "id": "b82f04c9",
   "metadata": {},
   "outputs": [],
   "source": [
    "# Relation\n",
    "\n",
    "1. Postive Correlation\n",
    "\n",
    "Increase in upward direction >> Increase in y  with increase in x\n",
    "\n",
    "2. Negative Correlation\n",
    "\n",
    "Decrease in downward direction >> Decrease in y  with increase in x\n",
    "\n",
    "3. No Correlation \n",
    "\n",
    "No correlation between  y  and x\n",
    "\n"
   ]
  },
  {
   "cell_type": "markdown",
   "id": "dd349af2",
   "metadata": {},
   "source": [
    "# Assumptions"
   ]
  },
  {
   "cell_type": "code",
   "execution_count": null,
   "id": "9e181ea5",
   "metadata": {},
   "outputs": [],
   "source": [
    "1. Linearity\n",
    "2. No Multicolinearity (Inpendence)\n",
    "3. Normality of Residual\n",
    "4. Homoscedasticity"
   ]
  },
  {
   "cell_type": "markdown",
   "id": "7231caee",
   "metadata": {},
   "source": [
    "### Linearity"
   ]
  },
  {
   "cell_type": "code",
   "execution_count": null,
   "id": "7b479776",
   "metadata": {},
   "outputs": [],
   "source": [
    "Linear relationship between independent variable and dependent variable"
   ]
  },
  {
   "cell_type": "code",
   "execution_count": null,
   "id": "b209ab00",
   "metadata": {},
   "outputs": [],
   "source": [
    "Correlation :\n",
    "    Coefficient of Correlation\n",
    "    Pearson Correlation Coefficient\n",
    "    R - Value"
   ]
  },
  {
   "cell_type": "code",
   "execution_count": null,
   "id": "4d3fbfd6",
   "metadata": {},
   "outputs": [],
   "source": [
    "R - value >> -1 to +1"
   ]
  },
  {
   "cell_type": "code",
   "execution_count": null,
   "id": "af54c607",
   "metadata": {},
   "outputs": [],
   "source": [
    "R >= 0.7  >> Positive Correlation\n",
    "R <= -0.7 >> Negative Correlation\n",
    "\n",
    "Good Predictors >> R >= 0.7 >>>> 0.85, 0.9 , 0.95\n",
    "Good Predictors >> R <= -0.7 >>>> -0.7, -0.8, -0.9, -0.88\n",
    "\n",
    "\n",
    "Bad Predictors >> -0.3 to +0.3 >> -0.2, -0.15, 0, 0.1, 0.25 "
   ]
  },
  {
   "cell_type": "code",
   "execution_count": null,
   "id": "076094b8",
   "metadata": {},
   "outputs": [],
   "source": []
  },
  {
   "cell_type": "code",
   "execution_count": null,
   "id": "c50203fb",
   "metadata": {},
   "outputs": [],
   "source": []
  }
 ],
 "metadata": {
  "kernelspec": {
   "display_name": "Python 3 (ipykernel)",
   "language": "python",
   "name": "python3"
  },
  "language_info": {
   "codemirror_mode": {
    "name": "ipython",
    "version": 3
   },
   "file_extension": ".py",
   "mimetype": "text/x-python",
   "name": "python",
   "nbconvert_exporter": "python",
   "pygments_lexer": "ipython3",
   "version": "3.10.0"
  }
 },
 "nbformat": 4,
 "nbformat_minor": 5
}
