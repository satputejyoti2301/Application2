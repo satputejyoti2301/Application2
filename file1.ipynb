{
 "cells": [
  {
   "cell_type": "markdown",
   "id": "566c4647",
   "metadata": {},
   "source": [
    "# Data Science Project Steps"
   ]
  },
  {
   "cell_type": "code",
   "execution_count": null,
   "id": "b9c31703",
   "metadata": {},
   "outputs": [],
   "source": [
    "1. Problem Statement (Business Understanding) POC\n",
    "2. Data Gathering(DataBase)\n",
    "3. Exploratory Data Analysis(EDA) >> Pandas, Numpy, Seaborn, Matplotlib, Plotly\n",
    "4. Feature Engineering:\n",
    "        1. Scaling:\n",
    "            Normalization\n",
    "            Standardization\n",
    "        2. Feature Tranformation:\n",
    "            Log, Square Root, Cube root, Boxcox\n",
    "        3. Encoding:\n",
    "            1. OneHot Encoding >> Nominal Data\n",
    "            2. Label Encoding  >> Ordinal Data\n",
    "            \n",
    "        4. Binning : (Cont to Cat)\n",
    "            \n",
    "5. Feature Selection and Feature Extraction : (Dimensionality Reduction)\n",
    "    Best set of Features\n",
    "    Feature Selection:\n",
    "        1. Filter\n",
    "        2. Wrapper\n",
    "        3. Embedded\n",
    "    Feature Extraction:\n",
    "        1. PCA\n",
    "        2. LDA\n",
    "        \n",
    "6. Model Training : \n",
    "    1. Linear Regression\n",
    "    2. KNN Regression\n",
    "    3. DT Regression\n",
    "    4. RF Regression\n",
    "    \n",
    "7. Evaluation\n",
    "    Regression:\n",
    "        1. MSE\n",
    "        2. RMSE\n",
    "        3. MAE\n",
    "        4. R-Rquared Value\n",
    "        \n",
    "    Classification:\n",
    "        1. Classification Report (Precision, Recall, f1score)\n",
    "        2. Confusion Matrix\n",
    "        3. AUC-ROC curve\n",
    "        4. Accuracy score\n",
    "        \n",
    "8. Web Devepment Framework:(API) >> Python Developer\n",
    "    1. Flask\n",
    "    2. DJango\n",
    "    3. Fast Api\n",
    "    4. gRPC\n",
    "    \n",
    "9. Deploment on Cloud Platform: DevOps or MLOPs\n",
    "    1. AWS\n",
    "    2. GCP\n",
    "    3. Azure\n",
    "    \n",
    "    \n",
    "DataBase :\n",
    "    Table1 >> 20 >> 12\n",
    "    Table2 >> 25 >> 15\n",
    "    Table3 >> 18 >> 0\n",
    "    \n",
    "\n",
    "2M rows and 63 columns >> Original\n",
    "2M rows and 27 columns >> DataFrame"
   ]
  },
  {
   "cell_type": "code",
   "execution_count": null,
   "id": "b803727a",
   "metadata": {},
   "outputs": [],
   "source": [
    "Problem Statement >> To predict Prices of House in Banglore\n",
    "Problem Statement >> To predict Amount of Insurance claimed by a customer\n",
    "Problem Statement >> To predict loan Defaulter\n",
    "Problem Statement >> To predict whether a person is suffering from Diabetes/HeartStroke/ Brain Stroke/ Penumonia "
   ]
  },
  {
   "cell_type": "code",
   "execution_count": null,
   "id": "5065f9bc",
   "metadata": {},
   "outputs": [],
   "source": [
    "UI/UX Developer >> FrontEnd >> Backend Developer >> AI/ML"
   ]
  }
 ],
 "metadata": {
  "kernelspec": {
   "display_name": "Python 3 (ipykernel)",
   "language": "python",
   "name": "python3"
  },
  "language_info": {
   "codemirror_mode": {
    "name": "ipython",
    "version": 3
   },
   "file_extension": ".py",
   "mimetype": "text/x-python",
   "name": "python",
   "nbconvert_exporter": "python",
   "pygments_lexer": "ipython3",
   "version": "3.9.12"
  }
 },
 "nbformat": 4,
 "nbformat_minor": 5
}
