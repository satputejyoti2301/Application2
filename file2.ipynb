{
 "cells": [
  {
   "cell_type": "markdown",
   "id": "da1f0f7b",
   "metadata": {},
   "source": [
    "# Data Science"
   ]
  },
  {
   "cell_type": "code",
   "execution_count": null,
   "id": "366c5024",
   "metadata": {},
   "outputs": [],
   "source": [
    "It is process of extracting meaningful information insights from data by using scientific methods"
   ]
  },
  {
   "cell_type": "markdown",
   "id": "5c040f9e",
   "metadata": {},
   "source": [
    "# Scientific Methods"
   ]
  },
  {
   "cell_type": "code",
   "execution_count": null,
   "id": "dc30fe53",
   "metadata": {},
   "outputs": [],
   "source": [
    "1. Machine Learning\n",
    "2. Deep Learning\n",
    "3. Natural Language Processing\n",
    "4. Statistics\n",
    "5. Visualization Tool(Matplolib, Seaborn, Plotly)"
   ]
  },
  {
   "cell_type": "markdown",
   "id": "790a75e4",
   "metadata": {},
   "source": [
    "# Data"
   ]
  },
  {
   "cell_type": "code",
   "execution_count": null,
   "id": "361b0016",
   "metadata": {},
   "outputs": [],
   "source": [
    "Structured : CSV, Excel\n",
    "    \n",
    "Semi Structured : JSON, HTML\n",
    "    \n",
    "Unstructured : Images, Videos, Audios, Text"
   ]
  },
  {
   "cell_type": "code",
   "execution_count": null,
   "id": "a19cd50b",
   "metadata": {},
   "outputs": [],
   "source": [
    "1. CSV\n",
    "2. Excel\n",
    "3. JSON\n",
    "4. Images\n",
    "5. PDF\n",
    "6. Audios\n",
    "7. Videos\n",
    "8. Database\n",
    "9. Text\n",
    "10. Web Scrapping"
   ]
  },
  {
   "cell_type": "markdown",
   "id": "a13ed904",
   "metadata": {},
   "source": [
    "# Real World Applications"
   ]
  },
  {
   "cell_type": "code",
   "execution_count": null,
   "id": "9b7b23c4",
   "metadata": {},
   "outputs": [],
   "source": [
    "1. Chatbot\n",
    "2. Digitization:\n",
    "    OCR: \n",
    "        Pytesseract\n",
    "        Google Vision\n",
    "        Amazon Textract\n",
    "        Easy OCR\n",
    "        \n",
    "3. Face Recoginition : (Video KYC)\n",
    "    Google Photos\n",
    "    Facebook\n",
    "    Phone Unlock\n",
    "    \n",
    "4. Car Price Prediction\n",
    "5. Weather Prediction\n",
    "6. House Price Predcition\n",
    "7. Google Maps\n",
    "8. Speech Recoginition:\n",
    "    Google Voice Assistant\n",
    "    Siri\n",
    "    Alexa\n",
    "    \n",
    "9. Sentiment Analysis : (Good or Bad)\n",
    "10. Customer Analysis\n",
    "11. Robotics \n",
    "12. Self Driving Car\n",
    "13. Recommendation System(YouTube, HotStar, Flipkart, NetFlix, Amazon, etc...)"
   ]
  },
  {
   "cell_type": "markdown",
   "id": "48366e98",
   "metadata": {},
   "source": [
    "# Types of Machine Learning"
   ]
  },
  {
   "cell_type": "code",
   "execution_count": null,
   "id": "1c2446a4",
   "metadata": {},
   "outputs": [],
   "source": [
    "1. Supervised ML\n",
    "2. UnSupervised ML\n",
    "3. Reinforcement ML"
   ]
  },
  {
   "cell_type": "markdown",
   "id": "08ecd150",
   "metadata": {},
   "source": [
    "## Supervised ML"
   ]
  },
  {
   "cell_type": "code",
   "execution_count": null,
   "id": "b979d45c",
   "metadata": {},
   "outputs": [],
   "source": [
    "If the data is labelled (Independent and Dependent Variables are present)"
   ]
  },
  {
   "cell_type": "code",
   "execution_count": null,
   "id": "c855872c",
   "metadata": {},
   "outputs": [],
   "source": [
    "Variables:\n",
    "    1. Independent Variable(Input, Predictors,Features, Parameters)\n",
    "    \n",
    "    2. Dependent Variable(Target, Output)"
   ]
  },
  {
   "cell_type": "code",
   "execution_count": null,
   "id": "a2e7c66c",
   "metadata": {},
   "outputs": [],
   "source": [
    "1. Classification : (Categorical Data in Target Column)\n",
    "    1. Binary Classification:\n",
    "        Approved Declined\n",
    "        1 - 0\n",
    "        Yes - No\n",
    "        Pos - Neg\n",
    "        Pass - Fail\n",
    "        Good - Bad\n",
    "        Spam - Not Spam\n",
    "    \n",
    "    2. Multiclass Classification:\n",
    "        High-Medium-Low\n",
    "        Class0-Class1-Class2\n",
    "        Ratings = 1,2,3,4,5"
   ]
  },
  {
   "cell_type": "code",
   "execution_count": null,
   "id": "a8b96c77",
   "metadata": {},
   "outputs": [],
   "source": [
    "Sunny\n",
    "Cloudy\n",
    "Clear"
   ]
  },
  {
   "cell_type": "code",
   "execution_count": null,
   "id": "72022374",
   "metadata": {},
   "outputs": [],
   "source": [
    "2. Regression : (Continuous Values in Target Column)\n",
    "    1. Car Price\n",
    "    2. House Price\n",
    "    3. Insurance Amount\n",
    "    4. Stock Predict"
   ]
  },
  {
   "cell_type": "code",
   "execution_count": null,
   "id": "0eb755fb",
   "metadata": {},
   "outputs": [],
   "source": [
    "10000 rows\n",
    "\n",
    "Model Training 80% (8000) >> 95%\n",
    "Model Testing  20% (2000) >> 95%"
   ]
  },
  {
   "cell_type": "code",
   "execution_count": null,
   "id": "e0636dcb",
   "metadata": {},
   "outputs": [],
   "source": [
    "Classification\n",
    "\n",
    "Actual   >> Predicted\n",
    "Approved >> A \n",
    "Approved >> D\n",
    "Declined >> A\n",
    "Approved >> A\n",
    "Approved >> A"
   ]
  },
  {
   "cell_type": "code",
   "execution_count": 1,
   "id": "c7ede1c4",
   "metadata": {},
   "outputs": [
    {
     "data": {
      "text/plain": [
       "60.0"
      ]
     },
     "execution_count": 1,
     "metadata": {},
     "output_type": "execute_result"
    }
   ],
   "source": [
    "3/5 * 100"
   ]
  },
  {
   "cell_type": "code",
   "execution_count": null,
   "id": "a8cf8251",
   "metadata": {},
   "outputs": [],
   "source": [
    "Regression:\n",
    "Actual   >> Predicted\n",
    "\n",
    "70L >> 72L >> 2L\n",
    "74L >> 73L \n",
    "68L >> 68L\n",
    "65L >> 64L\n",
    "80L >> 82L"
   ]
  },
  {
   "cell_type": "code",
   "execution_count": null,
   "id": "e732ef82",
   "metadata": {},
   "outputs": [],
   "source": [
    "5000 5500 >> 500"
   ]
  },
  {
   "cell_type": "code",
   "execution_count": null,
   "id": "a9fe5220",
   "metadata": {},
   "outputs": [],
   "source": [
    "Credit_Score  Salary   Age >> Input Data\n",
    "Status >> A/D >> Output Data"
   ]
  },
  {
   "cell_type": "markdown",
   "id": "974a3d15",
   "metadata": {},
   "source": [
    "# Supervised ML"
   ]
  },
  {
   "cell_type": "code",
   "execution_count": null,
   "id": "da5a5809",
   "metadata": {},
   "outputs": [],
   "source": [
    "1. Linear Regression >> Regression\n",
    "2. Logistic Regression >> Classification\n",
    "3. K - Nearest Neighbours : Classification and Regression\n",
    "    1. KNNClassifier >> Classification\n",
    "    2. KNNRegressor >> Regression\n",
    "    \n",
    "4. Decision Tree : Classification and Regression\n",
    "5. Random Forest : Classification and Regression\n",
    "6. Adaptive Boosting (AdaBoost) : Classification and Regression\n",
    "7. Gradient Boosting (GBoost) : Classification and Regression\n",
    "8. Xtreme Gradient Boosting (XGBoost) : Classification and Regression\n",
    "9. CatBoost : Classification and Regression\n",
    "10. Support Vector Machine (SVM) : Classification and Regression\n",
    "11. Naive Bayes Classifiers: Clasification\n",
    "    1. Gaussian Naive Bayes Classifier\n",
    "    2. Multinomial Naive Bayes Classifier\n",
    "    3. Bernoulli Naive Bayes Classifier"
   ]
  },
  {
   "cell_type": "code",
   "execution_count": null,
   "id": "e9e4c8e1",
   "metadata": {},
   "outputs": [],
   "source": [
    "Company_Age Salary Increment\n",
    "\n",
    "3           50000  70000       33%   \n",
    "2.5         40000  60000       41%\n",
    "1           30000  40000       33%\n",
    "\n",
    "3.5         60000  ?           >> 75000"
   ]
  },
  {
   "cell_type": "code",
   "execution_count": null,
   "id": "9ac78515",
   "metadata": {},
   "outputs": [],
   "source": [
    "Rows   Columns\n",
    "\n",
    "10K     100 \n",
    "1L\n",
    "1M"
   ]
  },
  {
   "cell_type": "code",
   "execution_count": null,
   "id": "598ec9a1",
   "metadata": {},
   "outputs": [],
   "source": [
    "10k Rows and 10 Columns\n",
    "5000 rows and 4000 Columns"
   ]
  },
  {
   "cell_type": "markdown",
   "id": "f9f78ce3",
   "metadata": {},
   "source": [
    "# UnSupervised "
   ]
  },
  {
   "cell_type": "code",
   "execution_count": null,
   "id": "1b712b7f",
   "metadata": {},
   "outputs": [],
   "source": [
    "If the data is Unlabelled(Only Independent Variables >> Input Variable)\n",
    "\n",
    "                    Matches  Innings    Run    Wickets\n",
    "    \n",
    "Player1             100       96        5000   10       \n",
    "Player2             95        54        1200   90 \n",
    "Player3             102       75        3500   40 \n",
    ".\n",
    ".\n",
    ".\n",
    "Player1000 "
   ]
  },
  {
   "cell_type": "code",
   "execution_count": null,
   "id": "6c2b1e51",
   "metadata": {},
   "outputs": [],
   "source": [
    "Fruits \n",
    "\n",
    "Shape  Colour \n",
    "\n",
    "Round   Orange   >> Orange\n",
    "Heart   Red      >> Apple"
   ]
  },
  {
   "cell_type": "markdown",
   "id": "8c0b75f6",
   "metadata": {},
   "source": [
    "# Unsupervised ML"
   ]
  },
  {
   "cell_type": "code",
   "execution_count": null,
   "id": "6c0cf7d2",
   "metadata": {},
   "outputs": [],
   "source": [
    "1. KMeans Clustering\n",
    "2. Hirarrchical Clustering\n",
    "3. Principal Component Analysis(PCA)"
   ]
  },
  {
   "cell_type": "code",
   "execution_count": null,
   "id": "0be53483",
   "metadata": {},
   "outputs": [],
   "source": [
    "Dimensionality Reduction Techniques : \n",
    "    1. Feature Selection\n",
    "    2. Feature Extraction"
   ]
  },
  {
   "cell_type": "code",
   "execution_count": null,
   "id": "f7435b75",
   "metadata": {},
   "outputs": [],
   "source": [
    "5k rows 1000 Columns"
   ]
  },
  {
   "cell_type": "markdown",
   "id": "199c7f47",
   "metadata": {},
   "source": [
    "# Reinforcement Learning"
   ]
  },
  {
   "cell_type": "code",
   "execution_count": null,
   "id": "a15ffb83",
   "metadata": {},
   "outputs": [],
   "source": [
    "Reward Based Learning\n",
    "\n",
    "1. Self Driving Cars\n",
    "2. Temperature Control Systems"
   ]
  },
  {
   "cell_type": "markdown",
   "id": "d27ff720",
   "metadata": {},
   "source": [
    "# Data Science Project Steps"
   ]
  },
  {
   "cell_type": "code",
   "execution_count": null,
   "id": "ba4582b0",
   "metadata": {},
   "outputs": [],
   "source": [
    "1. Problem Statement (Business Understanding) POC\n",
    "2. Data Gathering (DataBase)\n",
    "3. Exploratory Data Analyse(EDA) >> Pandas, Numpy, Seaborn, Matplotlib, Plotly\n",
    "4. Feature Engineering:\n",
    "    1. Scaling:\n",
    "        Normalization\n",
    "        Standardization\n",
    "    2. Feature"
   ]
  }
 ],
 "metadata": {
  "kernelspec": {
   "display_name": "Python 3 (ipykernel)",
   "language": "python",
   "name": "python3"
  },
  "language_info": {
   "codemirror_mode": {
    "name": "ipython",
    "version": 3
   },
   "file_extension": ".py",
   "mimetype": "text/x-python",
   "name": "python",
   "nbconvert_exporter": "python",
   "pygments_lexer": "ipython3",
   "version": "3.9.12"
  }
 },
 "nbformat": 4,
 "nbformat_minor": 5
}
