{
 "cells": [
  {
   "cell_type": "code",
   "execution_count": null,
   "id": "5a3952a6",
   "metadata": {},
   "outputs": [],
   "source": [
    "List is a heterogeneous collection of items,which is ordered ,allow duplicate values,enclosed by[]."
   ]
  },
  {
   "cell_type": "code",
   "execution_count": 1,
   "id": "65b47196",
   "metadata": {},
   "outputs": [],
   "source": [
    "list1=[\"red\",\"yellow\",\"white\",\"pink\"]"
   ]
  },
  {
   "cell_type": "code",
   "execution_count": 3,
   "id": "40f310e5",
   "metadata": {},
   "outputs": [
    {
     "data": {
      "text/plain": [
       "['red', 'yellow', 'white', 'pink', 'gray']"
      ]
     },
     "execution_count": 3,
     "metadata": {},
     "output_type": "execute_result"
    }
   ],
   "source": [
    "list1.append(\"gray\")\n",
    "list1"
   ]
  },
  {
   "cell_type": "code",
   "execution_count": 10,
   "id": "28538618",
   "metadata": {},
   "outputs": [
    {
     "data": {
      "text/plain": [
       "['red',\n",
       " 'yellow',\n",
       " 'white',\n",
       " 'pink',\n",
       " 'gray',\n",
       " 'blue',\n",
       " 'Skyblue',\n",
       " 'green',\n",
       " 'green',\n",
       " 'Skyblue',\n",
       " 'blue',\n",
       " 'blue',\n",
       " 'Skyblue',\n",
       " 'green',\n",
       " 'blue',\n",
       " 'Skyblue',\n",
       " 'green',\n",
       " 'blue',\n",
       " 'Skyblue',\n",
       " 'green',\n",
       " 'green',\n",
       " 'Skyblue',\n",
       " 'blue']"
      ]
     },
     "execution_count": 10,
     "metadata": {},
     "output_type": "execute_result"
    }
   ],
   "source": [
    "list2={\"blue\",\"Skyblue\",\"green\"}\n",
    "#list1.extend(list2)\n",
    "# list1"
   ]
  },
  {
   "cell_type": "code",
   "execution_count": null,
   "id": "cbfb6968",
   "metadata": {},
   "outputs": [],
   "source": []
  },
  {
   "cell_type": "code",
   "execution_count": null,
   "id": "6325dc2a",
   "metadata": {},
   "outputs": [],
   "source": []
  },
  {
   "cell_type": "code",
   "execution_count": null,
   "id": "5bd7b786",
   "metadata": {},
   "outputs": [],
   "source": []
  },
  {
   "cell_type": "code",
   "execution_count": null,
   "id": "b93dc9a9",
   "metadata": {},
   "outputs": [],
   "source": []
  },
  {
   "cell_type": "code",
   "execution_count": null,
   "id": "0561320d",
   "metadata": {},
   "outputs": [],
   "source": []
  }
 ],
 "metadata": {
  "kernelspec": {
   "display_name": "Python 3 (ipykernel)",
   "language": "python",
   "name": "python3"
  },
  "language_info": {
   "codemirror_mode": {
    "name": "ipython",
    "version": 3
   },
   "file_extension": ".py",
   "mimetype": "text/x-python",
   "name": "python",
   "nbconvert_exporter": "python",
   "pygments_lexer": "ipython3",
   "version": "3.9.12"
  }
 },
 "nbformat": 4,
 "nbformat_minor": 5
}
