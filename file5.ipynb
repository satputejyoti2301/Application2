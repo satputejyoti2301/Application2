{
 "cells": [
  {
   "cell_type": "markdown",
   "id": "325416b0",
   "metadata": {},
   "source": [
    "# String Functions\n"
   ]
  },
  {
   "cell_type": "markdown",
   "id": "02ece594",
   "metadata": {},
   "source": [
    "## 1.capitalize()"
   ]
  },
  {
   "cell_type": "code",
   "execution_count": null,
   "id": "e1615a12",
   "metadata": {},
   "outputs": [],
   "source": [
    ">> it will capitaliz only first char of string and all remaining char. will be in lower case.\n",
    "First char. >> 0th index item\n",
    "\n",
    "syntax : string.capitalize()"
   ]
  },
  {
   "cell_type": "code",
   "execution_count": 4,
   "id": "c2f9f194",
   "metadata": {},
   "outputs": [
    {
     "data": {
      "text/plain": [
       "'Data science'"
      ]
     },
     "execution_count": 4,
     "metadata": {},
     "output_type": "execute_result"
    }
   ],
   "source": [
    "string ='data science'\n",
    "string.capitalize()\n",
    "#print(string)"
   ]
  },
  {
   "cell_type": "code",
   "execution_count": 5,
   "id": "97665cd6",
   "metadata": {},
   "outputs": [
    {
     "data": {
      "text/plain": [
       "'   data science'"
      ]
     },
     "execution_count": 5,
     "metadata": {},
     "output_type": "execute_result"
    }
   ],
   "source": [
    "string ='   data science'\n",
    "string.capitalize()"
   ]
  },
  {
   "cell_type": "markdown",
   "id": "930f707d",
   "metadata": {},
   "source": [
    "## 2. upper()"
   ]
  },
  {
   "cell_type": "code",
   "execution_count": null,
   "id": "bcbc8118",
   "metadata": {},
   "outputs": [],
   "source": [
    ">> It convert all the characters in upper case.\n",
    "\n",
    "syntax : string.upper()"
   ]
  },
  {
   "cell_type": "code",
   "execution_count": 6,
   "id": "226136bf",
   "metadata": {},
   "outputs": [
    {
     "data": {
      "text/plain": [
       "'PYTHON AND DATA SCIENCE'"
      ]
     },
     "execution_count": 6,
     "metadata": {},
     "output_type": "execute_result"
    }
   ],
   "source": [
    "string=\"python and data science\"\n",
    "string.upper()"
   ]
  },
  {
   "cell_type": "markdown",
   "id": "b5bb4044",
   "metadata": {},
   "source": [
    "## 3.lower()"
   ]
  },
  {
   "cell_type": "code",
   "execution_count": null,
   "id": "1ac08824",
   "metadata": {},
   "outputs": [],
   "source": [
    ">> It convert all the characters in lower case.\n",
    "\n",
    "syntax : string.lower()"
   ]
  },
  {
   "cell_type": "code",
   "execution_count": 7,
   "id": "acea068c",
   "metadata": {
    "scrolled": false
   },
   "outputs": [
    {
     "data": {
      "text/plain": [
       "'python and data science'"
      ]
     },
     "execution_count": 7,
     "metadata": {},
     "output_type": "execute_result"
    }
   ],
   "source": [
    "string=\"PYTHON and data ScienCE\"\n",
    "string.lower()"
   ]
  },
  {
   "cell_type": "markdown",
   "id": "8a871866",
   "metadata": {},
   "source": [
    "## 4. title()\n"
   ]
  },
  {
   "cell_type": "code",
   "execution_count": null,
   "id": "ec5b44e8",
   "metadata": {},
   "outputs": [],
   "source": [
    ">>it will convert string in title case i.e. 1st char. of every word in upper case.\n",
    "\n",
    "syntax : string.title()"
   ]
  },
  {
   "cell_type": "code",
   "execution_count": 8,
   "id": "c568608b",
   "metadata": {},
   "outputs": [
    {
     "data": {
      "text/plain": [
       "'Data Science'"
      ]
     },
     "execution_count": 8,
     "metadata": {},
     "output_type": "execute_result"
    }
   ],
   "source": [
    "string=\"data science\"\n",
    "string.title()\n"
   ]
  },
  {
   "cell_type": "code",
   "execution_count": 9,
   "id": "bfb559b6",
   "metadata": {},
   "outputs": [
    {
     "data": {
      "text/plain": [
       "'Machine And Deep Learning'"
      ]
     },
     "execution_count": 9,
     "metadata": {},
     "output_type": "execute_result"
    }
   ],
   "source": [
    "string=\"machine and deep learning\"\n",
    "string.title()"
   ]
  },
  {
   "cell_type": "code",
   "execution_count": 11,
   "id": "b2424964",
   "metadata": {},
   "outputs": [
    {
     "data": {
      "text/plain": [
       "'   virat kohli'"
      ]
     },
     "execution_count": 11,
     "metadata": {},
     "output_type": "execute_result"
    }
   ],
   "source": [
    "string=\"   virat kohli\"\n",
    "string.title()\n",
    "string.capitalize()       # o/p is same bcoz of in string 1st char. is space."
   ]
  },
  {
   "cell_type": "code",
   "execution_count": 2,
   "id": "341ac72b",
   "metadata": {},
   "outputs": [
    {
     "name": "stdout",
     "output_type": "stream",
     "text": [
      "Python is a popular programming language. python can be used on a server to create web applications.\n"
     ]
    }
   ],
   "source": [
    "string=\"python is a popular programming language. Python can be used on a server to create web applications.\"\n",
    "\n",
    "print(string.capitalize())"
   ]
  },
  {
   "cell_type": "code",
   "execution_count": 3,
   "id": "5af3451b",
   "metadata": {},
   "outputs": [
    {
     "name": "stdout",
     "output_type": "stream",
     "text": [
      "python is a popular programming language. python can be used on a server to create web applications.\n"
     ]
    }
   ],
   "source": [
    "print(string.lower())"
   ]
  },
  {
   "cell_type": "code",
   "execution_count": 4,
   "id": "49e0c07e",
   "metadata": {},
   "outputs": [
    {
     "name": "stdout",
     "output_type": "stream",
     "text": [
      "PYTHON IS A POPULAR PROGRAMMING LANGUAGE. PYTHON CAN BE USED ON A SERVER TO CREATE WEB APPLICATIONS.\n"
     ]
    }
   ],
   "source": [
    "print(string.upper())"
   ]
  },
  {
   "cell_type": "code",
   "execution_count": 5,
   "id": "e28f5010",
   "metadata": {},
   "outputs": [
    {
     "name": "stdout",
     "output_type": "stream",
     "text": [
      "Python Is A Popular Programming Language. Python Can Be Used On A Server To Create Web Applications.\n"
     ]
    }
   ],
   "source": [
    "print(string.title())"
   ]
  },
  {
   "cell_type": "code",
   "execution_count": 6,
   "id": "cb61e2df",
   "metadata": {},
   "outputs": [
    {
     "name": "stdout",
     "output_type": "stream",
     "text": [
      "pYTHON iS a pOPULAR pROGRAMMING lANGUAGE. pYTHON cAN bE uSED oN a sERVER tO cREATE wEB aPPLICATIONS.\n"
     ]
    }
   ],
   "source": [
    "print(string.title().swapcase())"
   ]
  },
  {
   "cell_type": "code",
   "execution_count": 7,
   "id": "9cca4021",
   "metadata": {},
   "outputs": [
    {
     "name": "stdout",
     "output_type": "stream",
     "text": [
      "PYTHON IS A POPULAR PROGRAMMING LANGUAGE. pYTHON CAN BE USED ON A SERVER TO CREATE WEB APPLICATIONS.\n"
     ]
    }
   ],
   "source": [
    "print(string.swapcase())"
   ]
  },
  {
   "cell_type": "code",
   "execution_count": 12,
   "id": "c57daa0f",
   "metadata": {},
   "outputs": [],
   "source": [
    "string=\"       Python is a popular programming language. Python can be used on a server to create web applications.        \""
   ]
  },
  {
   "cell_type": "code",
   "execution_count": 13,
   "id": "e2caf1bb",
   "metadata": {},
   "outputs": [
    {
     "name": "stdout",
     "output_type": "stream",
     "text": [
      "Python is a popular programming language. Python can be used on a server to create web applications.        \n"
     ]
    }
   ],
   "source": [
    "print(string.lstrip())"
   ]
  },
  {
   "cell_type": "code",
   "execution_count": 14,
   "id": "864f151a",
   "metadata": {},
   "outputs": [
    {
     "name": "stdout",
     "output_type": "stream",
     "text": [
      "       Python is a popular programming language. Python can be used on a server to create web applications.\n"
     ]
    }
   ],
   "source": [
    "print(string.rstrip())"
   ]
  },
  {
   "cell_type": "code",
   "execution_count": 15,
   "id": "331f9e4f",
   "metadata": {},
   "outputs": [
    {
     "name": "stdout",
     "output_type": "stream",
     "text": [
      "Python is a popular programming language. Python can be used on a server to create web applications.\n"
     ]
    }
   ],
   "source": [
    "print(string.strip())"
   ]
  },
  {
   "cell_type": "code",
   "execution_count": 17,
   "id": "f8166de2",
   "metadata": {},
   "outputs": [],
   "source": [
    "string1=\"Python is a popular programming language. Python can be used on a server to create web applications.\""
   ]
  },
  {
   "cell_type": "code",
   "execution_count": 20,
   "id": "c2585e7c",
   "metadata": {
    "scrolled": true
   },
   "outputs": [
    {
     "name": "stdout",
     "output_type": "stream",
     "text": [
      "java is a popular programming language. java can be used on a server to create web applications.\n"
     ]
    }
   ],
   "source": [
    "print(string1.replace(\"Python\",\"java\"))"
   ]
  },
  {
   "cell_type": "code",
   "execution_count": 21,
   "id": "e0edce6c",
   "metadata": {},
   "outputs": [
    {
     "name": "stdout",
     "output_type": "stream",
     "text": [
      "2\n"
     ]
    }
   ],
   "source": [
    "print(string1.count(\"Python\"))"
   ]
  },
  {
   "cell_type": "code",
   "execution_count": 22,
   "id": "acac3c06",
   "metadata": {
    "scrolled": true
   },
   "outputs": [
    {
     "name": "stdout",
     "output_type": "stream",
     "text": [
      "20\n"
     ]
    }
   ],
   "source": [
    "print(string1.index(\"programming\"))"
   ]
  },
  {
   "cell_type": "code",
   "execution_count": 24,
   "id": "6c571add",
   "metadata": {},
   "outputs": [
    {
     "ename": "ValueError",
     "evalue": "substring not found",
     "output_type": "error",
     "traceback": [
      "\u001b[1;31m---------------------------------------------------------------------------\u001b[0m",
      "\u001b[1;31mValueError\u001b[0m                                Traceback (most recent call last)",
      "Input \u001b[1;32mIn [24]\u001b[0m, in \u001b[0;36m<cell line: 1>\u001b[1;34m()\u001b[0m\n\u001b[1;32m----> 1\u001b[0m \u001b[38;5;28mprint\u001b[39m(\u001b[43mstring1\u001b[49m\u001b[38;5;241;43m.\u001b[39;49m\u001b[43mindex\u001b[49m\u001b[43m(\u001b[49m\u001b[38;5;124;43m\"\u001b[39;49m\u001b[38;5;124;43mjava\u001b[39;49m\u001b[38;5;124;43m\"\u001b[39;49m\u001b[43m)\u001b[49m)\n",
      "\u001b[1;31mValueError\u001b[0m: substring not found"
     ]
    }
   ],
   "source": [
    "print(string1.index(\"java\"))"
   ]
  },
  {
   "cell_type": "code",
   "execution_count": 23,
   "id": "79011911",
   "metadata": {},
   "outputs": [
    {
     "name": "stdout",
     "output_type": "stream",
     "text": [
      "12\n"
     ]
    }
   ],
   "source": [
    "print(string1.find(\"popular\"))"
   ]
  },
  {
   "cell_type": "code",
   "execution_count": 25,
   "id": "29ed41af",
   "metadata": {},
   "outputs": [
    {
     "name": "stdout",
     "output_type": "stream",
     "text": [
      "-1\n"
     ]
    }
   ],
   "source": [
    "print(string1.find(\"java\"))"
   ]
  },
  {
   "cell_type": "code",
   "execution_count": 27,
   "id": "980a2972",
   "metadata": {},
   "outputs": [
    {
     "name": "stdout",
     "output_type": "stream",
     "text": [
      "['python', 'is', 'a', 'popular', 'programming', 'language.', 'Python', 'can', 'be', 'used', 'on', 'a', 'server', 'to', 'create', 'web', 'applications.']\n",
      "python is a popular programming language. Python can be used on a server to create web applications.\n"
     ]
    }
   ],
   "source": [
    "string1=\"python is a popular programming language. Python can be used on a server to create web applications.\"\n",
    "\n",
    "list1=string1.split()\n",
    "print(list1)\n",
    "\n",
    "string2=\" \".join(list1)\n",
    "print(string2)\n"
   ]
  },
  {
   "cell_type": "code",
   "execution_count": 34,
   "id": "130dc56f",
   "metadata": {
    "scrolled": true
   },
   "outputs": [
    {
     "name": "stdout",
     "output_type": "stream",
     "text": [
      "2022.09.26\n"
     ]
    }
   ],
   "source": [
    "date=\"26.09.2022\"\n",
    "list1=date.split(\".\")[::-1]\n",
    "date1=\".\".join(list1)\n",
    "print(date1)"
   ]
  },
  {
   "cell_type": "code",
   "execution_count": 35,
   "id": "fa91470b",
   "metadata": {},
   "outputs": [],
   "source": [
    "string1=\"python is a popular programming language. Python can be used on a server to create web applications.\""
   ]
  },
  {
   "cell_type": "code",
   "execution_count": 38,
   "id": "ae497afd",
   "metadata": {},
   "outputs": [
    {
     "name": "stdout",
     "output_type": "stream",
     "text": [
      "True\n"
     ]
    }
   ],
   "source": [
    "print(string1.endswith(\".\"))"
   ]
  },
  {
   "cell_type": "code",
   "execution_count": 39,
   "id": "38581bd3",
   "metadata": {},
   "outputs": [
    {
     "data": {
      "text/plain": [
       "False"
      ]
     },
     "execution_count": 39,
     "metadata": {},
     "output_type": "execute_result"
    }
   ],
   "source": [
    "string1.endswith(\"ions\")"
   ]
  },
  {
   "cell_type": "code",
   "execution_count": 40,
   "id": "404911c8",
   "metadata": {},
   "outputs": [
    {
     "data": {
      "text/plain": [
       "True"
      ]
     },
     "execution_count": 40,
     "metadata": {},
     "output_type": "execute_result"
    }
   ],
   "source": [
    "string1.endswith(\"ions.\")"
   ]
  },
  {
   "cell_type": "code",
   "execution_count": 42,
   "id": "b61fdedd",
   "metadata": {},
   "outputs": [
    {
     "data": {
      "text/plain": [
       "True"
      ]
     },
     "execution_count": 42,
     "metadata": {},
     "output_type": "execute_result"
    }
   ],
   "source": [
    "string1.startswith(\"p\")"
   ]
  },
  {
   "cell_type": "code",
   "execution_count": 43,
   "id": "a55e7bde",
   "metadata": {},
   "outputs": [
    {
     "data": {
      "text/plain": [
       "True"
      ]
     },
     "execution_count": 43,
     "metadata": {},
     "output_type": "execute_result"
    }
   ],
   "source": [
    "string1.startswith(\"pyth\")"
   ]
  },
  {
   "cell_type": "code",
   "execution_count": 44,
   "id": "3097f404",
   "metadata": {},
   "outputs": [
    {
     "data": {
      "text/plain": [
       "True"
      ]
     },
     "execution_count": 44,
     "metadata": {},
     "output_type": "execute_result"
    }
   ],
   "source": [
    "string1=\"aaaaaaaaaabbbvvgdvvhjvfhjdsc dmnb\"\n",
    "string1.islower()"
   ]
  },
  {
   "cell_type": "code",
   "execution_count": 45,
   "id": "c297e40b",
   "metadata": {},
   "outputs": [
    {
     "data": {
      "text/plain": [
       "False"
      ]
     },
     "execution_count": 45,
     "metadata": {},
     "output_type": "execute_result"
    }
   ],
   "source": [
    "string1.isupper()"
   ]
  },
  {
   "cell_type": "code",
   "execution_count": 46,
   "id": "ea9d43cf",
   "metadata": {},
   "outputs": [
    {
     "data": {
      "text/plain": [
       "False"
      ]
     },
     "execution_count": 46,
     "metadata": {},
     "output_type": "execute_result"
    }
   ],
   "source": [
    "string1.istitle()"
   ]
  },
  {
   "cell_type": "code",
   "execution_count": 47,
   "id": "525750a9",
   "metadata": {},
   "outputs": [
    {
     "data": {
      "text/plain": [
       "False"
      ]
     },
     "execution_count": 47,
     "metadata": {},
     "output_type": "execute_result"
    }
   ],
   "source": [
    "string1.isspace()"
   ]
  },
  {
   "cell_type": "code",
   "execution_count": 52,
   "id": "d718b790",
   "metadata": {},
   "outputs": [
    {
     "name": "stdout",
     "output_type": "stream",
     "text": [
      "6\n",
      "000000python\n"
     ]
    }
   ],
   "source": [
    "string2=\"python\"\n",
    "print(len(string2))\n",
    "print(string2.zfill(12))"
   ]
  },
  {
   "cell_type": "code",
   "execution_count": 58,
   "id": "7e93e45e",
   "metadata": {
    "scrolled": false
   },
   "outputs": [
    {
     "name": "stdout",
     "output_type": "stream",
     "text": [
      "*****python****\n"
     ]
    }
   ],
   "source": [
    "print(string2.center(15,\"*\"))"
   ]
  },
  {
   "cell_type": "code",
   "execution_count": 60,
   "id": "c49030a3",
   "metadata": {},
   "outputs": [
    {
     "name": "stdout",
     "output_type": "stream",
     "text": [
      "abcdefgh\n"
     ]
    }
   ],
   "source": [
    "string1=\"ABCDEFGH\"\n",
    "print(string1.casefold())"
   ]
  },
  {
   "cell_type": "code",
   "execution_count": 61,
   "id": "4abad422",
   "metadata": {},
   "outputs": [
    {
     "name": "stdout",
     "output_type": "stream",
     "text": [
      "äusserst\n"
     ]
    }
   ],
   "source": [
    "str1=\"äußerst\"\n",
    "print(str1.casefold())"
   ]
  },
  {
   "cell_type": "code",
   "execution_count": 63,
   "id": "818ce649",
   "metadata": {},
   "outputs": [
    {
     "name": "stdout",
     "output_type": "stream",
     "text": [
      "True\n",
      "False\n"
     ]
    }
   ],
   "source": [
    "string3=\"AAAAAAAAAAAAAAccbcdvd098677\"\n",
    "print(string3.isalnum())\n",
    "print(string3.isalpha())"
   ]
  },
  {
   "cell_type": "code",
   "execution_count": 66,
   "id": "a95e6038",
   "metadata": {},
   "outputs": [
    {
     "data": {
      "text/plain": [
       "True"
      ]
     },
     "execution_count": 66,
     "metadata": {},
     "output_type": "execute_result"
    }
   ],
   "source": [
    "str1=\"98884\"\n",
    "str1.isdigit()"
   ]
  },
  {
   "cell_type": "code",
   "execution_count": 68,
   "id": "64eb9c5f",
   "metadata": {},
   "outputs": [
    {
     "name": "stdout",
     "output_type": "stream",
     "text": [
      "False\n",
      "True\n",
      "True\n"
     ]
    }
   ],
   "source": [
    "str='\\u00b2'\n",
    "print(str.isdecimal())\n",
    "print(str.isdigit())\n",
    "print(str.isnumeric())"
   ]
  },
  {
   "cell_type": "code",
   "execution_count": null,
   "id": "e6acaba5",
   "metadata": {},
   "outputs": [],
   "source": []
  },
  {
   "cell_type": "code",
   "execution_count": null,
   "id": "27a66498",
   "metadata": {},
   "outputs": [],
   "source": []
  },
  {
   "cell_type": "code",
   "execution_count": null,
   "id": "1c508358",
   "metadata": {},
   "outputs": [],
   "source": []
  },
  {
   "cell_type": "code",
   "execution_count": null,
   "id": "26a9b82a",
   "metadata": {},
   "outputs": [],
   "source": []
  }
 ],
 "metadata": {
  "kernelspec": {
   "display_name": "Python 3 (ipykernel)",
   "language": "python",
   "name": "python3"
  },
  "language_info": {
   "codemirror_mode": {
    "name": "ipython",
    "version": 3
   },
   "file_extension": ".py",
   "mimetype": "text/x-python",
   "name": "python",
   "nbconvert_exporter": "python",
   "pygments_lexer": "ipython3",
   "version": "3.9.12"
  }
 },
 "nbformat": 4,
 "nbformat_minor": 5
}
